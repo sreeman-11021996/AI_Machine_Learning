{
 "cells": [
  {
   "cell_type": "markdown",
   "id": "a2244f50",
   "metadata": {},
   "source": [
    "### 1. Import Libraries"
   ]
  },
  {
   "cell_type": "code",
   "execution_count": 4,
   "id": "c9a70469",
   "metadata": {},
   "outputs": [],
   "source": [
    "import pandas as pd\n",
    "import numpy as np\n",
    "import seaborn as sns\n",
    "import matplotlib.pyplot as plt"
   ]
  },
  {
   "cell_type": "markdown",
   "id": "5c129a9a",
   "metadata": {},
   "source": [
    "### 2. Get dataset"
   ]
  },
  {
   "cell_type": "markdown",
   "id": "8d33b398",
   "metadata": {},
   "source": [
    "- ###   a. Bike sharing"
   ]
  },
  {
   "cell_type": "code",
   "execution_count": 5,
   "id": "e617e590",
   "metadata": {},
   "outputs": [],
   "source": [
    "df = pd.read_csv(\"bike-sharing.csv\")"
   ]
  },
  {
   "cell_type": "code",
   "execution_count": 6,
   "id": "11d7dd05",
   "metadata": {},
   "outputs": [
    {
     "data": {
      "text/plain": [
       "cnt           1.000000\n",
       "registered    0.972151\n",
       "casual        0.694564\n",
       "temp          0.404772\n",
       "atemp         0.400929\n",
       "hr            0.394071\n",
       "hum           0.322911\n",
       "instant       0.278379\n",
       "yr            0.250495\n",
       "season        0.178056\n",
       "weathersit    0.142426\n",
       "mnth          0.120638\n",
       "windspeed     0.093234\n",
       "holiday       0.030927\n",
       "workingday    0.030284\n",
       "weekday       0.026900\n",
       "Name: cnt, dtype: float64"
      ]
     },
     "execution_count": 6,
     "metadata": {},
     "output_type": "execute_result"
    }
   ],
   "source": [
    "np.abs(df.corr()[\"cnt\"]).sort_values(ascending = False)"
   ]
  },
  {
   "cell_type": "code",
   "execution_count": 7,
   "id": "0614873b",
   "metadata": {},
   "outputs": [],
   "source": [
    "df = df[[\"registered\",\"cnt\"]]"
   ]
  },
  {
   "cell_type": "code",
   "execution_count": 8,
   "id": "6e9a73a6",
   "metadata": {},
   "outputs": [
    {
     "data": {
      "text/html": [
       "<div>\n",
       "<style scoped>\n",
       "    .dataframe tbody tr th:only-of-type {\n",
       "        vertical-align: middle;\n",
       "    }\n",
       "\n",
       "    .dataframe tbody tr th {\n",
       "        vertical-align: top;\n",
       "    }\n",
       "\n",
       "    .dataframe thead th {\n",
       "        text-align: right;\n",
       "    }\n",
       "</style>\n",
       "<table border=\"1\" class=\"dataframe\">\n",
       "  <thead>\n",
       "    <tr style=\"text-align: right;\">\n",
       "      <th></th>\n",
       "      <th>registered</th>\n",
       "      <th>cnt</th>\n",
       "    </tr>\n",
       "  </thead>\n",
       "  <tbody>\n",
       "    <tr>\n",
       "      <th>0</th>\n",
       "      <td>13</td>\n",
       "      <td>16</td>\n",
       "    </tr>\n",
       "    <tr>\n",
       "      <th>1</th>\n",
       "      <td>32</td>\n",
       "      <td>40</td>\n",
       "    </tr>\n",
       "    <tr>\n",
       "      <th>2</th>\n",
       "      <td>27</td>\n",
       "      <td>32</td>\n",
       "    </tr>\n",
       "    <tr>\n",
       "      <th>3</th>\n",
       "      <td>10</td>\n",
       "      <td>13</td>\n",
       "    </tr>\n",
       "    <tr>\n",
       "      <th>4</th>\n",
       "      <td>1</td>\n",
       "      <td>1</td>\n",
       "    </tr>\n",
       "  </tbody>\n",
       "</table>\n",
       "</div>"
      ],
      "text/plain": [
       "   registered  cnt\n",
       "0          13   16\n",
       "1          32   40\n",
       "2          27   32\n",
       "3          10   13\n",
       "4           1    1"
      ]
     },
     "execution_count": 8,
     "metadata": {},
     "output_type": "execute_result"
    }
   ],
   "source": [
    "df.head()"
   ]
  },
  {
   "cell_type": "code",
   "execution_count": 9,
   "id": "aaa69dd4",
   "metadata": {},
   "outputs": [
    {
     "data": {
      "text/plain": [
       "registered    0\n",
       "cnt           0\n",
       "dtype: int64"
      ]
     },
     "execution_count": 9,
     "metadata": {},
     "output_type": "execute_result"
    }
   ],
   "source": [
    "df.isnull().sum()"
   ]
  },
  {
   "cell_type": "markdown",
   "id": "48ec4fdc",
   "metadata": {},
   "source": [
    "- ###   b. student_clustering"
   ]
  },
  {
   "cell_type": "code",
   "execution_count": 10,
   "id": "ff16eebd",
   "metadata": {},
   "outputs": [],
   "source": [
    "data = pd.read_csv(\"student_clustering.csv\")"
   ]
  },
  {
   "cell_type": "code",
   "execution_count": 11,
   "id": "010758a1",
   "metadata": {},
   "outputs": [
    {
     "data": {
      "text/html": [
       "<div>\n",
       "<style scoped>\n",
       "    .dataframe tbody tr th:only-of-type {\n",
       "        vertical-align: middle;\n",
       "    }\n",
       "\n",
       "    .dataframe tbody tr th {\n",
       "        vertical-align: top;\n",
       "    }\n",
       "\n",
       "    .dataframe thead th {\n",
       "        text-align: right;\n",
       "    }\n",
       "</style>\n",
       "<table border=\"1\" class=\"dataframe\">\n",
       "  <thead>\n",
       "    <tr style=\"text-align: right;\">\n",
       "      <th></th>\n",
       "      <th>cgpa</th>\n",
       "      <th>iq</th>\n",
       "    </tr>\n",
       "  </thead>\n",
       "  <tbody>\n",
       "    <tr>\n",
       "      <th>0</th>\n",
       "      <td>5.13</td>\n",
       "      <td>88</td>\n",
       "    </tr>\n",
       "    <tr>\n",
       "      <th>1</th>\n",
       "      <td>5.90</td>\n",
       "      <td>113</td>\n",
       "    </tr>\n",
       "    <tr>\n",
       "      <th>2</th>\n",
       "      <td>8.36</td>\n",
       "      <td>93</td>\n",
       "    </tr>\n",
       "    <tr>\n",
       "      <th>3</th>\n",
       "      <td>8.27</td>\n",
       "      <td>97</td>\n",
       "    </tr>\n",
       "    <tr>\n",
       "      <th>4</th>\n",
       "      <td>5.45</td>\n",
       "      <td>110</td>\n",
       "    </tr>\n",
       "  </tbody>\n",
       "</table>\n",
       "</div>"
      ],
      "text/plain": [
       "   cgpa   iq\n",
       "0  5.13   88\n",
       "1  5.90  113\n",
       "2  8.36   93\n",
       "3  8.27   97\n",
       "4  5.45  110"
      ]
     },
     "execution_count": 11,
     "metadata": {},
     "output_type": "execute_result"
    }
   ],
   "source": [
    "data.head()"
   ]
  },
  {
   "cell_type": "code",
   "execution_count": 12,
   "id": "6cb96cf4",
   "metadata": {},
   "outputs": [
    {
     "data": {
      "text/plain": [
       "cgpa    0\n",
       "iq      0\n",
       "dtype: int64"
      ]
     },
     "execution_count": 12,
     "metadata": {},
     "output_type": "execute_result"
    }
   ],
   "source": [
    "# Checking for missing values\n",
    "data.isnull().sum()"
   ]
  },
  {
   "cell_type": "code",
   "execution_count": 13,
   "id": "6bd5c66e",
   "metadata": {},
   "outputs": [
    {
     "data": {
      "text/plain": [
       "(200, 2)"
      ]
     },
     "execution_count": 13,
     "metadata": {},
     "output_type": "execute_result"
    }
   ],
   "source": [
    "data.shape"
   ]
  },
  {
   "cell_type": "markdown",
   "id": "8d9aff79",
   "metadata": {},
   "source": [
    "### 3.  Visualize"
   ]
  },
  {
   "cell_type": "code",
   "execution_count": 14,
   "id": "bd3a09f8",
   "metadata": {},
   "outputs": [
    {
     "name": "stderr",
     "output_type": "stream",
     "text": [
      "C:\\Users\\SREEMAN\\anaconda3\\lib\\site-packages\\seaborn\\_decorators.py:36: FutureWarning: Pass the following variables as keyword args: x, y. From version 0.12, the only valid positional argument will be `data`, and passing other arguments without an explicit keyword will result in an error or misinterpretation.\n",
      "  warnings.warn(\n"
     ]
    },
    {
     "data": {
      "text/plain": [
       "<AxesSubplot:xlabel='cgpa', ylabel='iq'>"
      ]
     },
     "execution_count": 14,
     "metadata": {},
     "output_type": "execute_result"
    },
    {
     "data": {
      "image/png": "[encoded data removed]",
      "text/plain": [
       "<Figure size 432x288 with 1 Axes>"
      ]
     },
     "metadata": {
      "needs_background": "light"
     },
     "output_type": "display_data"
    }
   ],
   "source": [
    "sns.scatterplot(data.iloc[:,0],data.iloc[:,1])"
   ]
  },
  {
   "cell_type": "code",
   "execution_count": 15,
   "id": "aad2e757",
   "metadata": {},
   "outputs": [
    {
     "name": "stderr",
     "output_type": "stream",
     "text": [
      "C:\\Users\\SREEMAN\\anaconda3\\lib\\site-packages\\seaborn\\_decorators.py:36: FutureWarning: Pass the following variables as keyword args: x, y. From version 0.12, the only valid positional argument will be `data`, and passing other arguments without an explicit keyword will result in an error or misinterpretation.\n",
      "  warnings.warn(\n"
     ]
    },
    {
     "data": {
      "text/plain": [
       "<AxesSubplot:xlabel='registered', ylabel='cnt'>"
      ]
     },
     "execution_count": 15,
     "metadata": {},
     "output_type": "execute_result"
    },
    {
     "data": {
      "image/png": "[encoded data removed]",
      "text/plain": [
       "<Figure size 432x288 with 1 Axes>"
      ]
     },
     "metadata": {
      "needs_background": "light"
     },
     "output_type": "display_data"
    }
   ],
   "source": [
    "sns.scatterplot(df.iloc[:,0],df.iloc[:,1])"
   ]
  },
  {
   "cell_type": "markdown",
   "id": "c9abd3e1",
   "metadata": {},
   "source": [
    "### 4.  K-Means"
   ]
  },
  {
   "cell_type": "code",
   "execution_count": 16,
   "id": "50c1ae6f",
   "metadata": {},
   "outputs": [],
   "source": [
    "from sklearn.cluster import KMeans"
   ]
  },
  {
   "cell_type": "code",
   "execution_count": 17,
   "id": "7e53e368",
   "metadata": {},
   "outputs": [],
   "source": [
    "def elbow_graph(X,k_range = 11):\n",
    "    wcss = []\n",
    "    K = range(1,k_range)\n",
    "    for k in K:\n",
    "        kmeans = KMeans(n_clusters=k)\n",
    "        kmeans.fit(X)\n",
    "        wcss.append(kmeans.inertia_)\n",
    "    plt.plot(K,wcss)"
   ]
  },
  {
   "cell_type": "markdown",
   "id": "b04bfd25",
   "metadata": {},
   "source": [
    "### 4.a On (student dataset)"
   ]
  },
  {
   "cell_type": "code",
   "execution_count": 18,
   "id": "db513e6d",
   "metadata": {},
   "outputs": [
    {
     "name": "stderr",
     "output_type": "stream",
     "text": [
      "C:\\Users\\SREEMAN\\anaconda3\\lib\\site-packages\\sklearn\\cluster\\_kmeans.py:1036: UserWarning: KMeans is known to have a memory leak on Windows with MKL, when there are less chunks than available threads. You can avoid it by setting the environment variable OMP_NUM_THREADS=1.\n",
      "  warnings.warn(\n"
     ]
    },
    {
     "data": {
      "image/png": "[encoded data removed]",
      "text/plain": [
       "<Figure size 432x288 with 1 Axes>"
      ]
     },
     "metadata": {
      "needs_background": "light"
     },
     "output_type": "display_data"
    }
   ],
   "source": [
    "elbow_graph(data)"
   ]
  },
  {
   "cell_type": "code",
   "execution_count": 35,
   "id": "5cd3de8f",
   "metadata": {},
   "outputs": [],
   "source": [
    "kmeans_f = KMeans(n_clusters=4)\n",
    "y_means = kmeans_f.fit_predict(data)"
   ]
  },
  {
   "cell_type": "code",
   "execution_count": 36,
   "id": "46ae297d",
   "metadata": {},
   "outputs": [
    {
     "data": {
      "text/plain": [
       "array([1, 2, 3, 3, 2, 2, 3, 0, 2, 3, 1, 2, 3, 1, 2, 3, 2, 3, 2, 2, 3, 1,\n",
       "       3, 1, 1, 3, 1, 0, 3, 2, 0, 2, 0, 2, 3, 3, 0, 2, 1, 2, 1, 3, 3, 1,\n",
       "       0, 0, 3, 2, 0, 2, 1, 1, 0, 3, 0, 2, 2, 0, 2, 0, 2, 3, 3, 0, 1, 0,\n",
       "       3, 1, 2, 3, 2, 0, 3, 1, 2, 0, 2, 0, 1, 3, 3, 0, 2, 1, 0, 1, 0, 2,\n",
       "       0, 2, 0, 0, 3, 1, 3, 3, 0, 3, 1, 0, 2, 1, 1, 0, 1, 1, 3, 1, 0, 0,\n",
       "       3, 0, 2, 2, 3, 0, 3, 2, 0, 1, 1, 2, 3, 0, 3, 1, 3, 2, 1, 3, 3, 2,\n",
       "       1, 1, 2, 0, 2, 1, 3, 3, 3, 1, 2, 1, 1, 0, 1, 0, 2, 1, 0, 1, 0, 0,\n",
       "       1, 3, 2, 0, 2, 3, 1, 0, 2, 3, 0, 1, 2, 1, 1, 0, 0, 2, 0, 1, 1, 3,\n",
       "       0, 2, 1, 0, 0, 2, 2, 2, 3, 1, 3, 3, 0, 2, 3, 3, 1, 1, 3, 1, 0, 2,\n",
       "       2, 0])"
      ]
     },
     "execution_count": 36,
     "metadata": {},
     "output_type": "execute_result"
    }
   ],
   "source": [
    "y_means"
   ]
  },
  {
   "cell_type": "code",
   "execution_count": 37,
   "id": "1ca76a59",
   "metadata": {},
   "outputs": [],
   "source": [
    "from kmeans import KMeans as km"
   ]
  },
  {
   "cell_type": "code",
   "execution_count": 38,
   "id": "3505e601",
   "metadata": {},
   "outputs": [
    {
     "name": "stdout",
     "output_type": "stream",
     "text": [
      "old_centroids -  [[  7.39686869 113.43434343]\n",
      " [  8.15705882  94.78431373]\n",
      " [  5.07083333  84.41666667]\n",
      " [  4.935       87.42105263]]\n",
      "new_centroids -  [[  7.39686869 113.43434343]\n",
      " [  8.15705882  94.78431373]\n",
      " [  5.07083333  84.41666667]\n",
      " [  4.935       87.42105263]]\n",
      "Iterations -  2\n"
     ]
    }
   ],
   "source": [
    "kmeans_f_own= km(n_clusters=4,max_iter=500)\n",
    "y_means_own = kmeans_f_own.fit_predict(data)"
   ]
  },
  {
   "cell_type": "code",
   "execution_count": 39,
   "id": "aee5ba2f",
   "metadata": {},
   "outputs": [
    {
     "data": {
      "text/plain": [
       "array([3, 0, 1, 1, 0, 0, 1, 0, 0, 1, 3, 0, 1, 3, 0, 1, 0, 1, 0, 0, 1, 3,\n",
       "       1, 3, 3, 1, 3, 0, 1, 0, 0, 0, 0, 0, 1, 1, 0, 0, 2, 0, 2, 1, 1, 3,\n",
       "       0, 0, 1, 0, 0, 0, 2, 3, 0, 1, 0, 0, 0, 0, 0, 0, 1, 1, 1, 0, 3, 0,\n",
       "       1, 2, 0, 1, 0, 0, 1, 2, 0, 0, 0, 0, 3, 1, 1, 0, 0, 2, 0, 3, 0, 0,\n",
       "       0, 0, 0, 0, 1, 3, 1, 1, 0, 1, 3, 0, 0, 3, 3, 0, 3, 3, 1, 3, 0, 0,\n",
       "       1, 0, 0, 0, 1, 0, 1, 0, 0, 3, 3, 0, 1, 0, 1, 2, 1, 0, 3, 1, 1, 0,\n",
       "       2, 3, 0, 0, 0, 3, 1, 1, 1, 2, 0, 3, 3, 0, 3, 0, 0, 3, 0, 2, 0, 0,\n",
       "       3, 1, 0, 0, 0, 1, 3, 0, 0, 1, 0, 3, 0, 2, 3, 0, 0, 0, 0, 3, 3, 1,\n",
       "       0, 0, 3, 0, 0, 0, 0, 0, 1, 3, 1, 1, 0, 0, 1, 1, 3, 2, 1, 3, 0, 0,\n",
       "       0, 0])"
      ]
     },
     "execution_count": 39,
     "metadata": {},
     "output_type": "execute_result"
    }
   ],
   "source": [
    "y_means_own"
   ]
  },
  {
   "cell_type": "code",
   "execution_count": null,
   "id": "ec7ca48e",
   "metadata": {},
   "outputs": [],
   "source": []
  },
  {
   "cell_type": "code",
   "execution_count": 21,
   "id": "f79d2ebd",
   "metadata": {},
   "outputs": [
    {
     "data": {
      "text/plain": [
       "<matplotlib.collections.PathCollection at 0x23fdbce3eb0>"
      ]
     },
     "execution_count": 21,
     "metadata": {},
     "output_type": "execute_result"
    },
    {
     "data": {
      "image/png": "[encoded data removed]",
      "text/plain": [
       "<Figure size 432x288 with 1 Axes>"
      ]
     },
     "metadata": {
      "needs_background": "light"
     },
     "output_type": "display_data"
    }
   ],
   "source": [
    "# plot\n",
    "plt.scatter(data.iloc[y_means == 0,0], data.iloc[y_means == 0,1])\n",
    "plt.scatter(data.iloc[y_means == 1,0], data.iloc[y_means == 1,1])\n",
    "plt.scatter(data.iloc[y_means == 2,0], data.iloc[y_means == 2,1])\n",
    "plt.scatter(data.iloc[y_means == 3,0], data.iloc[y_means == 3,1])"
   ]
  },
  {
   "cell_type": "markdown",
   "id": "2d554682",
   "metadata": {},
   "source": [
    "### 4.b On (Bike sharing dataset)"
   ]
  },
  {
   "cell_type": "code",
   "execution_count": 80,
   "id": "b1d76258",
   "metadata": {},
   "outputs": [
    {
     "data": {
      "image/png": "[encoded data removed]",
      "text/plain": [
       "<Figure size 432x288 with 1 Axes>"
      ]
     },
     "metadata": {
      "needs_background": "light"
     },
     "output_type": "display_data"
    }
   ],
   "source": [
    "elbow_graph(df)"
   ]
  },
  {
   "cell_type": "code",
   "execution_count": 81,
   "id": "75561604",
   "metadata": {},
   "outputs": [],
   "source": [
    "kmeans_f2 = KMeans(n_clusters=5)\n",
    "y_means2 = kmeans_f2.fit_predict(df)"
   ]
  },
  {
   "cell_type": "code",
   "execution_count": 82,
   "id": "ee5baa0c",
   "metadata": {},
   "outputs": [
    {
     "data": {
      "text/plain": [
       "<matplotlib.collections.PathCollection at 0x17b9757dfd0>"
      ]
     },
     "execution_count": 82,
     "metadata": {},
     "output_type": "execute_result"
    },
    {
     "data": {
      "image/png": "[encoded data removed]",
      "text/plain": [
       "<Figure size 432x288 with 1 Axes>"
      ]
     },
     "metadata": {
      "needs_background": "light"
     },
     "output_type": "display_data"
    }
   ],
   "source": [
    "# plot\n",
    "plt.scatter(df.iloc[y_means2 == 0,0], df.iloc[y_means2 == 0,1])\n",
    "plt.scatter(df.iloc[y_means2 == 1,0], df.iloc[y_means2 == 1,1])\n",
    "plt.scatter(df.iloc[y_means2 == 2,0], df.iloc[y_means2 == 2,1])\n",
    "plt.scatter(df.iloc[y_means2 == 3,0], df.iloc[y_means2 == 3,1])\n",
    "plt.scatter(df.iloc[y_means2 == 4,0], df.iloc[y_means2 == 4,1])"
   ]
  },
  {
   "cell_type": "code",
   "execution_count": null,
   "id": "18a7f46b",
   "metadata": {},
   "outputs": [],
   "source": []
  },
  {
   "cell_type": "code",
   "execution_count": 83,
   "id": "33782335",
   "metadata": {},
   "outputs": [],
   "source": [
    "import random"
   ]
  },
  {
   "cell_type": "code",
   "execution_count": 96,
   "id": "2619a2e0",
   "metadata": {},
   "outputs": [],
   "source": [
    "index = random.sample(range(data.shape[0]),2)\n",
    "X = np.array(data)"
   ]
  },
  {
   "cell_type": "code",
   "execution_count": 97,
   "id": "89d5886d",
   "metadata": {},
   "outputs": [
    {
     "data": {
      "text/plain": [
       "array([[  7.93,  98.  ],\n",
       "       [  5.88, 110.  ]])"
      ]
     },
     "execution_count": 97,
     "metadata": {},
     "output_type": "execute_result"
    }
   ],
   "source": [
    "X[index]"
   ]
  },
  {
   "cell_type": "code",
   "execution_count": 101,
   "id": "623937c1",
   "metadata": {},
   "outputs": [],
   "source": [
    "test = np.array([[1,2],[3,4]])"
   ]
  },
  {
   "cell_type": "code",
   "execution_count": 110,
   "id": "6794aeae",
   "metadata": {},
   "outputs": [
    {
     "name": "stdout",
     "output_type": "stream",
     "text": [
      "[1 2]\n",
      "[3 4]\n"
     ]
    }
   ],
   "source": [
    "for pt in test:\n",
    "    print(pt)"
   ]
  },
  {
   "cell_type": "code",
   "execution_count": 111,
   "id": "71bfda94",
   "metadata": {},
   "outputs": [
    {
     "data": {
      "text/plain": [
       "array([-1, -1])"
      ]
     },
     "execution_count": 111,
     "metadata": {},
     "output_type": "execute_result"
    }
   ],
   "source": [
    "a = np.array([1,1])\n",
    "b = np.array([2,2])\n",
    "a-b"
   ]
  },
  {
   "cell_type": "code",
   "execution_count": 112,
   "id": "ac53a103",
   "metadata": {},
   "outputs": [
    {
     "data": {
      "text/plain": [
       "2"
      ]
     },
     "execution_count": 112,
     "metadata": {},
     "output_type": "execute_result"
    }
   ],
   "source": [
    "\n",
    "np.dot((a-b),(a-b))"
   ]
  },
  {
   "cell_type": "code",
   "execution_count": 121,
   "id": "96e1bf81",
   "metadata": {},
   "outputs": [
    {
     "data": {
      "text/plain": [
       "0"
      ]
     },
     "execution_count": 121,
     "metadata": {},
     "output_type": "execute_result"
    }
   ],
   "source": [
    "list(a).index(1)"
   ]
  },
  {
   "cell_type": "code",
   "execution_count": 6,
   "id": "aeeacf69",
   "metadata": {},
   "outputs": [],
   "source": [
    "X = np.array([[1,2],[2,3],[3,4],[4,5],[5,6]])\n",
    "cluster = [0,1,1,0,1]"
   ]
  },
  {
   "cell_type": "code",
   "execution_count": 10,
   "id": "6532855f",
   "metadata": {},
   "outputs": [],
   "source": [
    "type = np.unique(cluster)"
   ]
  },
  {
   "cell_type": "code",
   "execution_count": 13,
   "id": "0067cbad",
   "metadata": {},
   "outputs": [
    {
     "name": "stdout",
     "output_type": "stream",
     "text": [
      "[[1 2]\n",
      " [4 5]]\n",
      "[[2 3]\n",
      " [3 4]\n",
      " [5 6]]\n"
     ]
    }
   ],
   "source": [
    "for class_ in type:\n",
    "    print(X[np.where(cluster == class_)])"
   ]
  },
  {
   "cell_type": "code",
   "execution_count": 16,
   "id": "8c39ca03",
   "metadata": {},
   "outputs": [
    {
     "data": {
      "text/plain": [
       "array([3., 4.])"
      ]
     },
     "execution_count": 16,
     "metadata": {},
     "output_type": "execute_result"
    }
   ],
   "source": [
    "X.mean(axis=0)"
   ]
  },
  {
   "cell_type": "code",
   "execution_count": 33,
   "id": "6e8607d6",
   "metadata": {},
   "outputs": [],
   "source": [
    "a = np.array([[1,2],[2,3]])\n",
    "b = np.array([[1,2],[2,3]])"
   ]
  },
  {
   "cell_type": "code",
   "execution_count": 34,
   "id": "c6f86529",
   "metadata": {},
   "outputs": [
    {
     "name": "stdout",
     "output_type": "stream",
     "text": [
      "ok\n"
     ]
    }
   ],
   "source": [
    "if (a == b).all():\n",
    "    print(\"ok\")"
   ]
  },
  {
   "cell_type": "code",
   "execution_count": null,
   "id": "1cfd79bb",
   "metadata": {},
   "outputs": [],
   "source": []
  }
 ],
 "metadata": {
  "kernelspec": {
   "display_name": "Python 3",
   "language": "python",
   "name": "python3"
  },
  "language_info": {
   "codemirror_mode": {
    "name": "ipython",
    "version": 3
   },
   "file_extension": ".py",
   "mimetype": "text/x-python",
   "name": "python",
   "nbconvert_exporter": "python",
   "pygments_lexer": "ipython3",
   "version": "3.8.8"
  }
 },
 "nbformat": 4,
 "nbformat_minor": 5
}
