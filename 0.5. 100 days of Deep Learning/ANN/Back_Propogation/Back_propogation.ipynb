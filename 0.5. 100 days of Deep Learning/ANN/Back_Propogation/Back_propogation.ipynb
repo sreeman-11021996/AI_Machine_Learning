{
 "cells": [
  {
   "cell_type": "code",
   "execution_count": 38,
   "id": "e22d7ec0",
   "metadata": {},
   "outputs": [],
   "source": [
    "import numpy as np\n",
    "import pandas as pd"
   ]
  },
  {
   "cell_type": "code",
   "execution_count": 19,
   "id": "68a0c1fe",
   "metadata": {},
   "outputs": [],
   "source": [
    "input_dim = 5\n",
    "nodes = 3"
   ]
  },
  {
   "cell_type": "code",
   "execution_count": 20,
   "id": "24eee0db",
   "metadata": {},
   "outputs": [],
   "source": [
    "params = {\"weights\" : (input_dim*nodes), \"bias\" : nodes}"
   ]
  },
  {
   "cell_type": "code",
   "execution_count": 21,
   "id": "26b6e2b7",
   "metadata": {},
   "outputs": [
    {
     "data": {
      "text/plain": [
       "{'weights': 15, 'bias': 3}"
      ]
     },
     "execution_count": 21,
     "metadata": {},
     "output_type": "execute_result"
    }
   ],
   "source": [
    "params"
   ]
  },
  {
   "cell_type": "code",
   "execution_count": 22,
   "id": "d196d442",
   "metadata": {},
   "outputs": [
    {
     "data": {
      "text/plain": [
       "array([[1., 1., 1., 1., 1.],\n",
       "       [1., 1., 1., 1., 1.],\n",
       "       [1., 1., 1., 1., 1.]])"
      ]
     },
     "execution_count": 22,
     "metadata": {},
     "output_type": "execute_result"
    }
   ],
   "source": [
    "np.ones((nodes,input_dim))"
   ]
  },
  {
   "cell_type": "code",
   "execution_count": 24,
   "id": "3ea67197",
   "metadata": {},
   "outputs": [
    {
     "data": {
      "text/plain": [
       "array([[0.],\n",
       "       [0.],\n",
       "       [0.]])"
      ]
     },
     "execution_count": 24,
     "metadata": {},
     "output_type": "execute_result"
    }
   ],
   "source": [
    "np.zeros((nodes,1))"
   ]
  },
  {
   "cell_type": "code",
   "execution_count": 28,
   "id": "3979c4fc",
   "metadata": {},
   "outputs": [],
   "source": [
    "nodes = [2]\n",
    "layers = 1"
   ]
  },
  {
   "cell_type": "code",
   "execution_count": 29,
   "id": "7bcb7057",
   "metadata": {},
   "outputs": [],
   "source": [
    "curr = 4\n",
    "layers = 2\n",
    "nodes.append(curr)"
   ]
  },
  {
   "cell_type": "code",
   "execution_count": 30,
   "id": "4a9327ba",
   "metadata": {},
   "outputs": [
    {
     "data": {
      "text/plain": [
       "[2, 4]"
      ]
     },
     "execution_count": 30,
     "metadata": {},
     "output_type": "execute_result"
    }
   ],
   "source": [
    "nodes"
   ]
  },
  {
   "cell_type": "code",
   "execution_count": 31,
   "id": "d59da2bf",
   "metadata": {},
   "outputs": [
    {
     "data": {
      "text/plain": [
       "2"
      ]
     },
     "execution_count": 31,
     "metadata": {},
     "output_type": "execute_result"
    }
   ],
   "source": [
    "nodes[layers-2]"
   ]
  },
  {
   "cell_type": "code",
   "execution_count": 36,
   "id": "e91af96e",
   "metadata": {},
   "outputs": [],
   "source": [
    "params = {}"
   ]
  },
  {
   "cell_type": "code",
   "execution_count": 37,
   "id": "eb7f7b01",
   "metadata": {},
   "outputs": [],
   "source": [
    "params[\"w1\"] = [1,1]"
   ]
  },
  {
   "cell_type": "code",
   "execution_count": 41,
   "id": "1fe138bf",
   "metadata": {},
   "outputs": [
    {
     "data": {
      "text/html": [
       "<div>\n",
       "<style scoped>\n",
       "    .dataframe tbody tr th:only-of-type {\n",
       "        vertical-align: middle;\n",
       "    }\n",
       "\n",
       "    .dataframe tbody tr th {\n",
       "        vertical-align: top;\n",
       "    }\n",
       "\n",
       "    .dataframe thead th {\n",
       "        text-align: right;\n",
       "    }\n",
       "</style>\n",
       "<table border=\"1\" class=\"dataframe\">\n",
       "  <thead>\n",
       "    <tr style=\"text-align: right;\">\n",
       "      <th></th>\n",
       "      <th>col1</th>\n",
       "      <th>col2</th>\n",
       "    </tr>\n",
       "  </thead>\n",
       "  <tbody>\n",
       "    <tr>\n",
       "      <th>0</th>\n",
       "      <td>1</td>\n",
       "      <td>4</td>\n",
       "    </tr>\n",
       "    <tr>\n",
       "      <th>1</th>\n",
       "      <td>2</td>\n",
       "      <td>5</td>\n",
       "    </tr>\n",
       "    <tr>\n",
       "      <th>2</th>\n",
       "      <td>3</td>\n",
       "      <td>6</td>\n",
       "    </tr>\n",
       "  </tbody>\n",
       "</table>\n",
       "</div>"
      ],
      "text/plain": [
       "   col1  col2\n",
       "0     1     4\n",
       "1     2     5\n",
       "2     3     6"
      ]
     },
     "execution_count": 41,
     "metadata": {},
     "output_type": "execute_result"
    }
   ],
   "source": [
    "df = pd.DataFrame({\"col1\" : [1,2,3], \"col2\" : [4,5,6]})\n",
    "df"
   ]
  },
  {
   "cell_type": "code",
   "execution_count": 43,
   "id": "c91b7441",
   "metadata": {},
   "outputs": [
    {
     "data": {
      "text/plain": [
       "array([1, 4], dtype=int64)"
      ]
     },
     "execution_count": 43,
     "metadata": {},
     "output_type": "execute_result"
    }
   ],
   "source": [
    "np.array(df)[0]"
   ]
  },
  {
   "cell_type": "code",
   "execution_count": 44,
   "id": "96b07e97",
   "metadata": {},
   "outputs": [
    {
     "data": {
      "text/plain": [
       "array([[1, 4],\n",
       "       [2, 5],\n",
       "       [3, 6]])"
      ]
     },
     "execution_count": 44,
     "metadata": {},
     "output_type": "execute_result"
    }
   ],
   "source": [
    "np.array(np.array([[1,4],[2,5],[3,6]]))"
   ]
  },
  {
   "cell_type": "code",
   "execution_count": 54,
   "id": "ea18f955",
   "metadata": {},
   "outputs": [],
   "source": [
    "wts = np.array([[1,2],[4,5]])\n",
    "b = np.array([[5]])\n",
    "x = np.array([[2,3]])"
   ]
  },
  {
   "cell_type": "code",
   "execution_count": 55,
   "id": "6bbeca5f",
   "metadata": {},
   "outputs": [
    {
     "data": {
      "text/plain": [
       "(1, 2)"
      ]
     },
     "execution_count": 55,
     "metadata": {},
     "output_type": "execute_result"
    }
   ],
   "source": [
    "x.shape"
   ]
  },
  {
   "cell_type": "code",
   "execution_count": 56,
   "id": "3b27cac2",
   "metadata": {},
   "outputs": [
    {
     "data": {
      "text/plain": [
       "13"
      ]
     },
     "execution_count": 56,
     "metadata": {},
     "output_type": "execute_result"
    }
   ],
   "source": [
    "(2*1)+(3*2)+5"
   ]
  },
  {
   "cell_type": "code",
   "execution_count": 58,
   "id": "dcd0cb80",
   "metadata": {},
   "outputs": [
    {
     "data": {
      "text/plain": [
       "array([[13],\n",
       "       [28]])"
      ]
     },
     "execution_count": 58,
     "metadata": {},
     "output_type": "execute_result"
    }
   ],
   "source": [
    "np.dot(wts,x.T) + b"
   ]
  },
  {
   "cell_type": "code",
   "execution_count": null,
   "id": "fef979ff",
   "metadata": {},
   "outputs": [],
   "source": []
  }
 ],
 "metadata": {
  "kernelspec": {
   "display_name": "Python 3",
   "language": "python",
   "name": "python3"
  },
  "language_info": {
   "codemirror_mode": {
    "name": "ipython",
    "version": 3
   },
   "file_extension": ".py",
   "mimetype": "text/x-python",
   "name": "python",
   "nbconvert_exporter": "python",
   "pygments_lexer": "ipython3",
   "version": "3.8.8"
  }
 },
 "nbformat": 4,
 "nbformat_minor": 5
}
