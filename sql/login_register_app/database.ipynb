{
 "cells": [
  {
   "cell_type": "code",
   "execution_count": 1,
   "id": "a9e87cb4",
   "metadata": {},
   "outputs": [],
   "source": [
    "import mysql.connector"
   ]
  },
  {
   "cell_type": "code",
   "execution_count": 65,
   "id": "cc3745e6",
   "metadata": {},
   "outputs": [],
   "source": [
    "class DBHelper:\n",
    "    def __init__ (self):\n",
    "        try:\n",
    "            self.conn = mysql.connector.connect(\n",
    "                host = \"localhost\",user = \"root\",password = \"\",\n",
    "                database = \"login_register\")\n",
    "            self.mycurser = self.conn.cursor()\n",
    "        except:\n",
    "            print(\"Server could not connect! Some error occured\")\n",
    "        else:\n",
    "            print(\"Server Connected\")\n",
    "    \n",
    "    def register (self,name,email,password):\n",
    "        try:\n",
    "            self.mycurser.execute(\"\"\"\n",
    "            INSERT INTO `users` (`User Id`, `Name`, `Email Id`, `Password`) VALUES (NULL, '{}', '{}', '{}');\n",
    "            \"\"\".format(name,email,password))\n",
    "            self.conn.commit()\n",
    "        except:\n",
    "            return 0\n",
    "        else:\n",
    "            return 1\n",
    "    def login(self,email,password):\n",
    "        try:\n",
    "            self.mycurser.execute(\"\"\"\n",
    "            SELECT * FROM `users` WHERE `Email Id` LIKE '{}' AND `Password` = {}\n",
    "            \"\"\".format(email,password))\n",
    "            # fetching data from database\n",
    "            data = self.mycurser.fetchall()\n",
    "        except:\n",
    "            return 0\n",
    "        else:\n",
    "            return data"
   ]
  },
  {
   "cell_type": "code",
   "execution_count": 62,
   "id": "8fd25c7e",
   "metadata": {},
   "outputs": [
    {
     "name": "stdout",
     "output_type": "stream",
     "text": [
      "Server Connected\n"
     ]
    }
   ],
   "source": [
    "db = DBHelper()"
   ]
  },
  {
   "cell_type": "code",
   "execution_count": 63,
   "id": "4bc0adaf",
   "metadata": {},
   "outputs": [],
   "source": [
    "# values\n",
    "name = \"mythili\"\n",
    "email = \"mythili@gmail.com\"\n",
    "password = \"12345\""
   ]
  },
  {
   "cell_type": "code",
   "execution_count": 64,
   "id": "12726425",
   "metadata": {},
   "outputs": [
    {
     "name": "stdout",
     "output_type": "stream",
     "text": [
      "[(14, 'mythili', 'mythili@gmail.com', 12345)]\n"
     ]
    }
   ],
   "source": [
    "db.login(email,password)"
   ]
  },
  {
   "cell_type": "code",
   "execution_count": null,
   "id": "8196b998",
   "metadata": {},
   "outputs": [],
   "source": []
  },
  {
   "cell_type": "code",
   "execution_count": 26,
   "id": "d9d06211",
   "metadata": {},
   "outputs": [],
   "source": [
    "# values\n",
    "name = \"mythili\"\n",
    "email = \"mythili@gmail.com\"\n",
    "password = \"12345\""
   ]
  },
  {
   "cell_type": "code",
   "execution_count": 27,
   "id": "f63eb6a2",
   "metadata": {},
   "outputs": [
    {
     "name": "stdout",
     "output_type": "stream",
     "text": [
      "Registration successfull\n"
     ]
    }
   ],
   "source": [
    "db.register(name,email,password)"
   ]
  },
  {
   "cell_type": "code",
   "execution_count": null,
   "id": "3b2e4c44",
   "metadata": {},
   "outputs": [],
   "source": []
  },
  {
   "cell_type": "code",
   "execution_count": null,
   "id": "3c25a8e0",
   "metadata": {},
   "outputs": [],
   "source": []
  },
  {
   "cell_type": "markdown",
   "id": "207ae463",
   "metadata": {},
   "source": [
    "### Register func. not working"
   ]
  },
  {
   "cell_type": "code",
   "execution_count": 55,
   "id": "265aea63",
   "metadata": {},
   "outputs": [],
   "source": [
    "class DBHelper_2:\n",
    "    def __init__ (self):\n",
    "        try:\n",
    "            self.conn = mysql.connector.connect(\n",
    "                host = \"localhost\",user = \"root\",password = \"\",\n",
    "                database = \"login_register\")\n",
    "            self.mycurser = self.conn.cursor()\n",
    "        except:\n",
    "            print(\"Server could not connect! Some error occured\")\n",
    "        else:\n",
    "            print(\"Server Connected\")\n",
    "    \n",
    "    def register (self,name,email,password):\n",
    "        try:\n",
    "            sql = \"INSERT INTO users VALUES (NULL,?,?,?)\"\n",
    "            val = (name,email,password)\n",
    "            self.mycurser.execute(sql,val)\n",
    "        except Exception as e:\n",
    "            print(\"could not Register\",e)\n",
    "        else:\n",
    "            print(\"Registration successfull\")"
   ]
  },
  {
   "cell_type": "code",
   "execution_count": 56,
   "id": "ca9bb16f",
   "metadata": {},
   "outputs": [
    {
     "name": "stdout",
     "output_type": "stream",
     "text": [
      "Server Connected\n"
     ]
    }
   ],
   "source": [
    "db2 = DBHelper_2()"
   ]
  },
  {
   "cell_type": "code",
   "execution_count": 57,
   "id": "d1672f64",
   "metadata": {},
   "outputs": [],
   "source": [
    "# values\n",
    "name = \"jim\"\n",
    "email = \"jim@gmail.com\"\n",
    "password = \"78984\""
   ]
  },
  {
   "cell_type": "code",
   "execution_count": 58,
   "id": "2c30da74",
   "metadata": {},
   "outputs": [
    {
     "name": "stdout",
     "output_type": "stream",
     "text": [
      "could not Register Not all parameters were used in the SQL statement\n"
     ]
    }
   ],
   "source": [
    "db2.register(name,email,password)"
   ]
  },
  {
   "cell_type": "code",
   "execution_count": null,
   "id": "5312dc3f",
   "metadata": {},
   "outputs": [],
   "source": []
  },
  {
   "cell_type": "code",
   "execution_count": null,
   "id": "2e666fbd",
   "metadata": {},
   "outputs": [],
   "source": []
  },
  {
   "cell_type": "code",
   "execution_count": null,
   "id": "78be76cf",
   "metadata": {},
   "outputs": [],
   "source": []
  }
 ],
 "metadata": {
  "kernelspec": {
   "display_name": "Python 3",
   "language": "python",
   "name": "python3"
  },
  "language_info": {
   "codemirror_mode": {
    "name": "ipython",
    "version": 3
   },
   "file_extension": ".py",
   "mimetype": "text/x-python",
   "name": "python",
   "nbconvert_exporter": "python",
   "pygments_lexer": "ipython3",
   "version": "3.8.8"
  }
 },
 "nbformat": 4,
 "nbformat_minor": 5
}
