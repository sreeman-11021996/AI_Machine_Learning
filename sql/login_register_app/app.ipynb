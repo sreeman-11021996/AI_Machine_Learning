{
 "cells": [
  {
   "cell_type": "code",
   "execution_count": 1,
   "id": "7cab4324",
   "metadata": {},
   "outputs": [
    {
     "name": "stdout",
     "output_type": "stream",
     "text": [
      "Requirement already satisfied: mysql.connector in c:\\users\\sreeman\\anaconda3\\lib\\site-packages (2.2.9)Note: you may need to restart the kernel to use updated packages.\n",
      "\n"
     ]
    }
   ],
   "source": [
    "pip install mysql.connector"
   ]
  },
  {
   "cell_type": "code",
   "execution_count": 7,
   "id": "28fdc019",
   "metadata": {},
   "outputs": [
    {
     "name": "stdout",
     "output_type": "stream",
     "text": [
      "Collecting import-ipynb\n",
      "  Downloading import-ipynb-0.1.3.tar.gz (4.0 kB)\n",
      "Building wheels for collected packages: import-ipynb\n",
      "  Building wheel for import-ipynb (setup.py): started\n",
      "  Building wheel for import-ipynb (setup.py): finished with status 'done'\n",
      "  Created wheel for import-ipynb: filename=import_ipynb-0.1.3-py3-none-any.whl size=2975 sha256=d6aae226979d507c4585c4b548c20239ee22c64a579cf27ea6b273138ff5c829\n",
      "  Stored in directory: c:\\users\\sreeman\\appdata\\local\\pip\\cache\\wheels\\06\\7e\\ad\\1cb03e935234186825cefc7e2c8f3451b4f654b5bc72232a7b\n",
      "Successfully built import-ipynb\n",
      "Installing collected packages: import-ipynb\n",
      "Successfully installed import-ipynb-0.1.3\n",
      "Note: you may need to restart the kernel to use updated packages.\n"
     ]
    }
   ],
   "source": [
    "pip install import-ipynb"
   ]
  },
  {
   "cell_type": "code",
   "execution_count": null,
   "id": "6e1b8a2a",
   "metadata": {},
   "outputs": [],
   "source": []
  },
  {
   "cell_type": "code",
   "execution_count": 3,
   "id": "2657bee7",
   "metadata": {},
   "outputs": [],
   "source": [
    "#import import_ipynb\n",
    "from database import DBHelper\n",
    "import sys"
   ]
  },
  {
   "cell_type": "code",
   "execution_count": 8,
   "id": "9ceecd11",
   "metadata": {},
   "outputs": [],
   "source": [
    "\n",
    "class Flipkart:\n",
    "    def __init__ (self):\n",
    "        # connect to data base\n",
    "        self.db = DBHelper()\n",
    "        self.menu()\n",
    "    def menu(self):\n",
    "        inp_val = input(\"\"\"\n",
    "        1. Enter 1 to register\n",
    "        2. Enter 2 to login\n",
    "        3. Enter anything else to exit\n",
    "        \"\"\")\n",
    "        if inp_val == '1':\n",
    "            self.register()\n",
    "        elif inp_val == '2':\n",
    "            self.login()\n",
    "        else:\n",
    "            sys.exit(1000)\n",
    "    def register(self):\n",
    "        name = input(\"Enter your name: \")\n",
    "        email = input(\"Enter your email id: \")\n",
    "        password = input(\"Enter your password: \")\n",
    "        response = self.db.register(name,email,password)\n",
    "        if response:\n",
    "            print(\"Registration Successfull\")\n",
    "        else:\n",
    "            print(\"Registration Unsuccessfull! Some error occured\")\n",
    "        self.menu()\n",
    "    def login(self):\n",
    "        email =    input(\"Email    :\")\n",
    "        password = input(\"Password :\")\n",
    "        data = self.db.login(email,password)\n",
    "        if not data:\n",
    "            print(\"Incorrect Email/password\")\n",
    "        else:\n",
    "            print(\"Hello \",data[0][1])\n",
    "        self.menu()"
   ]
  },
  {
   "cell_type": "code",
   "execution_count": 9,
   "id": "a6bf5672",
   "metadata": {},
   "outputs": [
    {
     "name": "stdout",
     "output_type": "stream",
     "text": [
      "Server Connected\n",
      "\n",
      "        1. Enter 1 to register\n",
      "        2. Enter 2 to login\n",
      "        3. Enter anything else to exit\n",
      "        2\n",
      "Email    :dfg\n",
      "Password :fgd\n",
      "Incorrect Email/password\n",
      "\n",
      "        1. Enter 1 to register\n",
      "        2. Enter 2 to login\n",
      "        3. Enter anything else to exit\n",
      "        k\n"
     ]
    },
    {
     "ename": "SystemExit",
     "evalue": "1000",
     "output_type": "error",
     "traceback": [
      "An exception has occurred, use %tb to see the full traceback.\n",
      "\u001b[1;31mSystemExit\u001b[0m\u001b[1;31m:\u001b[0m 1000\n"
     ]
    },
    {
     "name": "stderr",
     "output_type": "stream",
     "text": [
      "C:\\Users\\SREEMAN\\anaconda3\\lib\\site-packages\\IPython\\core\\interactiveshell.py:3445: UserWarning: To exit: use 'exit', 'quit', or Ctrl-D.\n",
      "  warn(\"To exit: use 'exit', 'quit', or Ctrl-D.\", stacklevel=1)\n"
     ]
    }
   ],
   "source": [
    "obj = Flipkart()"
   ]
  },
  {
   "cell_type": "code",
   "execution_count": null,
   "id": "d76af44f",
   "metadata": {},
   "outputs": [],
   "source": []
  }
 ],
 "metadata": {
  "kernelspec": {
   "display_name": "Python 3",
   "language": "python",
   "name": "python3"
  },
  "language_info": {
   "codemirror_mode": {
    "name": "ipython",
    "version": 3
   },
   "file_extension": ".py",
   "mimetype": "text/x-python",
   "name": "python",
   "nbconvert_exporter": "python",
   "pygments_lexer": "ipython3",
   "version": "3.8.8"
  }
 },
 "nbformat": 4,
 "nbformat_minor": 5
}
